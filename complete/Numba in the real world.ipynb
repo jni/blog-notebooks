{
 "cells": [
  {
   "cell_type": "markdown",
   "metadata": {},
   "source": [
    "Numba is a just-in-time compiler (JIT) for Python code focused on NumPy arrays and scientific Python. I've seen various tutorials around the web and in conferences, but I have yet to see someone use Numba \"in the wild\". In the past few months, I've been using Numba in my own code, and I recently released my first real package using Numba, [skan](https://pypi.python.org/pypi/skan). The short version is that Numba is *amazing* and you should strongly consider it to speed up your scientific Python bottlenecks. Read on for the longer version."
   ]
  },
  {
   "cell_type": "markdown",
   "metadata": {},
   "source": [
    "## Part 1: some toy examples"
   ]
  },
  {
   "cell_type": "markdown",
   "metadata": {},
   "source": [
    "Let me illustrate what Numba is good for with the most basic example: adding two arrays together. You've probably seen similar examples around the web.\n",
    "\n",
    "We start by defining a pure Python function for iterating over a pair of arrays and adding them:"
   ]
  },
  {
   "cell_type": "code",
   "execution_count": 1,
   "metadata": {
    "collapsed": true
   },
   "outputs": [],
   "source": [
    "import numpy as np\n",
    "\n",
    "\n",
    "def addarr(x, y):\n",
    "    result = np.zeros_like(x)\n",
    "    for i in range(x.size):\n",
    "        result[i] = x[i] + y[i]\n",
    "    return result"
   ]
  },
  {
   "cell_type": "markdown",
   "metadata": {},
   "source": [
    "How long does this take in pure Python?"
   ]
  },
  {
   "cell_type": "code",
   "execution_count": 2,
   "metadata": {
    "collapsed": true
   },
   "outputs": [],
   "source": [
    "n = int(1e6)\n",
    "a = np.random.rand(n)\n",
    "b = np.random.rand(n)"
   ]
  },
  {
   "cell_type": "code",
   "execution_count": 3,
   "metadata": {
    "collapsed": false
   },
   "outputs": [
    {
     "name": "stdout",
     "output_type": "stream",
     "text": [
      "1 loop, best of 1: 721 ms per loop\n"
     ]
    }
   ],
   "source": [
    "%timeit -r 1 -n 1 addarr(a, b)"
   ]
  },
  {
   "cell_type": "markdown",
   "metadata": {},
   "source": [
    "About half a second on my machine. Let's try with Numba using its JIT decorator:"
   ]
  },
  {
   "cell_type": "code",
   "execution_count": 4,
   "metadata": {
    "collapsed": true
   },
   "outputs": [],
   "source": [
    "import numba\n",
    "\n",
    "addarr_nb = numba.jit(addarr)"
   ]
  },
  {
   "cell_type": "code",
   "execution_count": 5,
   "metadata": {
    "collapsed": false
   },
   "outputs": [
    {
     "name": "stdout",
     "output_type": "stream",
     "text": [
      "1 loop, best of 1: 283 ms per loop\n"
     ]
    }
   ],
   "source": [
    "%timeit -r 1 -n 1 addarr_nb(a, b)"
   ]
  },
  {
   "cell_type": "markdown",
   "metadata": {},
   "source": [
    "The first time it runs, it's only a tiny bit faster. That's because of the nature of JITs: they only compile code *as it is being run*, in order to use object type information of the objects passed into the function. (Note that, in Python, the arguments `a` and `b` to `addarr` could be anything: an array, as expected, but also a list, a tuple, even a `Banana`, if you've defined such a class, and the meaning of the function body is different for each of those types.)\n",
    "\n",
    "Let's see what happens the next time we run it:"
   ]
  },
  {
   "cell_type": "code",
   "execution_count": 6,
   "metadata": {
    "collapsed": false
   },
   "outputs": [
    {
     "name": "stdout",
     "output_type": "stream",
     "text": [
      "1 loop, best of 1: 6.36 ms per loop\n"
     ]
    }
   ],
   "source": [
    "%timeit -r 1 -n 1 addarr_nb(a, b)"
   ]
  },
  {
   "cell_type": "markdown",
   "metadata": {},
   "source": [
    "Whoa! Now the code takes 5ms, about 100 times faster than the pure Python version. And the NumPy equivalent?"
   ]
  },
  {
   "cell_type": "code",
   "execution_count": 7,
   "metadata": {
    "collapsed": false
   },
   "outputs": [
    {
     "name": "stdout",
     "output_type": "stream",
     "text": [
      "1 loop, best of 1: 5.62 ms per loop\n"
     ]
    }
   ],
   "source": [
    "%timeit -r 1 -n 1 a + b"
   ]
  },
  {
   "cell_type": "markdown",
   "metadata": {},
   "source": [
    "Only marginally faster than Numba, even though NumPy addition is implemented in highly optimised C code. And, for some data types, Numba even beats NumPy:"
   ]
  },
  {
   "cell_type": "code",
   "execution_count": 8,
   "metadata": {
    "collapsed": true
   },
   "outputs": [],
   "source": [
    "r = np.random.randint(0, 128, size=n).astype(np.uint8)\n",
    "s = np.random.randint(0, 128, size=n).astype(np.uint8)"
   ]
  },
  {
   "cell_type": "code",
   "execution_count": 9,
   "metadata": {
    "collapsed": false
   },
   "outputs": [
    {
     "name": "stdout",
     "output_type": "stream",
     "text": [
      "1 loop, best of 1: 2.92 ms per loop\n"
     ]
    }
   ],
   "source": [
    "%timeit -r 1 -n 1 r + s"
   ]
  },
  {
   "cell_type": "code",
   "execution_count": 10,
   "metadata": {
    "collapsed": false
   },
   "outputs": [
    {
     "name": "stdout",
     "output_type": "stream",
     "text": [
      "1 loop, best of 1: 238 ms per loop\n"
     ]
    }
   ],
   "source": [
    "%timeit -r 1 -n 1 addarr_nb(r, s)"
   ]
  },
  {
   "cell_type": "code",
   "execution_count": 11,
   "metadata": {
    "collapsed": false
   },
   "outputs": [
    {
     "name": "stdout",
     "output_type": "stream",
     "text": [
      "1 loop, best of 1: 234 µs per loop\n"
     ]
    }
   ],
   "source": [
    "%timeit -r 1 -n 1 addarr_nb(r, s)"
   ]
  },
  {
   "cell_type": "markdown",
   "metadata": {},
   "source": [
    "WOW! For smaller data types, Numba beats NumPy by over 10x!\n",
    "\n",
    "I'm only speculating, but since my clock speed is about 1GHz (I'm writing this on a base Macbook with a 1.1GHz Core-m processor), I suspect that Numba is taking advantage of some [SIMD](https://en.wikipedia.org/wiki/SIMD) capabilities of the processor, whereas NumPy is treating each array element as an individual arithmetic operation. (If any Numba or NumPy devs are reading this and have more concrete implementation details that explain this, please share them in the comments!)"
   ]
  },
  {
   "cell_type": "markdown",
   "metadata": {},
   "source": [
    "So hopefully I've got your attention now. For years, NumPy has been the go-to library for performance Python in scientific computing. But, if you wanted to do something a little out of the ordinary, you were stuck. Now, Numba generally matches that for arbitrary code and sometimes beats it handily!\n",
    "\n",
    "In this context, I decided to use Numba to do something a little less trivial, as part of my research."
   ]
  },
  {
   "cell_type": "markdown",
   "metadata": {},
   "source": [
    "## Part 2: Real Numba"
   ]
  },
  {
   "cell_type": "markdown",
   "metadata": {
    "collapsed": true
   },
   "source": [
    "I'll present below a slightly simplified version of the code present in my library, [skan](https://pypi.python.org/pypi/skan), which is currently available on PyPI and conda-forge. The task is to build an graph out of the pixels of a skleton image, like this one:"
   ]
  },
  {
   "cell_type": "code",
   "execution_count": 12,
   "metadata": {
    "collapsed": true
   },
   "outputs": [],
   "source": [
    "%matplotlib inline"
   ]
  },
  {
   "cell_type": "code",
   "execution_count": 13,
   "metadata": {
    "collapsed": false
   },
   "outputs": [],
   "source": [
    "import matplotlib.pyplot as plt\n",
    "plt.rcParams['image.cmap'] = 'gray'\n",
    "plt.rcParams['image.interpolation'] = 'nearest'"
   ]
  },
  {
   "cell_type": "code",
   "execution_count": 14,
   "metadata": {
    "collapsed": false
   },
   "outputs": [],
   "source": [
    "skeleton = np.array([[0, 1, 0, 0, 0, 1, 1],\n",
    "                     [0, 0, 1, 1, 1, 0, 0],\n",
    "                     [0, 1, 0, 0, 0, 1, 0],\n",
    "                     [0, 0, 1, 0, 1, 0, 0],\n",
    "                     [1, 1, 0, 1, 0, 0, 0]], dtype=bool)\n",
    "skeleton = np.pad(skeleton, pad_width=1, mode='constant')"
   ]
  },
  {
   "cell_type": "code",
   "execution_count": 15,
   "metadata": {
    "collapsed": false
   },
   "outputs": [
    {
     "data": {
      "text/plain": [
       "<matplotlib.text.Text at 0x112b679e8>"
      ]
     },
     "execution_count": 15,
     "metadata": {},
     "output_type": "execute_result"
    },
    {
     "data": {
      "image/png": "[encoded data removed]",
      "text/plain": [
       "<matplotlib.figure.Figure at 0x10ec95f28>"
      ]
     },
     "metadata": {},
     "output_type": "display_data"
    }
   ],
   "source": [
    "fig, ax = plt.subplots(figsize=(5, 5))\n",
    "ax.imshow(skeleton)\n",
    "ax.set_title('Skeleton')\n",
    "ax.set_xlabel('col')\n",
    "ax.set_ylabel('row')"
   ]
  },
  {
   "cell_type": "markdown",
   "metadata": {},
   "source": [
    "Every white pixel in the image will be a node in our graph, and we place edges between nodes if the pixels are next to each other (counting diagonals). A natural way to represent a graph in the SciPy world is as a sparse matrix $A$: we number the nonzero pixels from 1 onwards — these are the rows of the matrix — and then place a 1 at entry $A_{i, j}$ when pixel $i$ is adjacent to pixel $j$. SciPy's `sparse.coo_matrix` format make it very easy to construct such a matrix: we just need an array with the row coordinates and another with the column coordinates.\n",
    "\n",
    "Because NumPy arrays are not dynamically resizable like Python lists, it helps to know ahead of time how many edges we are going to need to put in our row and column arrays. Thankfully, a well-known theorem of graph theory states that the number of edges of a graph is half the sum of the degrees. In our case, because we want to add the edges twice (once from $i$ to $j$ and once from $j$ to $i$, we just need the sum of the degrees exactly. We can find this out with a convolution using `scipy.ndimage`:"
   ]
  },
  {
   "cell_type": "code",
   "execution_count": 16,
   "metadata": {
    "collapsed": true
   },
   "outputs": [],
   "source": [
    "from scipy import ndimage as ndi\n",
    "\n",
    "neighbors = np.array([[1, 1, 1],\n",
    "                      [1, 0, 1],\n",
    "                      [1, 1, 1]])\n",
    "\n",
    "degrees = ndi.convolve(skeleton.astype(int), neighbors) * skeleton"
   ]
  },
  {
   "cell_type": "code",
   "execution_count": 17,
   "metadata": {
    "collapsed": false
   },
   "outputs": [
    {
     "data": {
      "image/png": "[encoded data removed]",
      "text/plain": [
       "<matplotlib.figure.Figure at 0x112b463c8>"
      ]
     },
     "metadata": {},
     "output_type": "display_data"
    }
   ],
   "source": [
    "fig, ax = plt.subplots(figsize=(5, 5))\n",
    "result = ax.imshow(degrees, cmap='magma')\n",
    "ax.set_title('Skeleton, colored by node degree')\n",
    "ax.set_xlabel('col')\n",
    "ax.set_ylabel('row')\n",
    "cbar = fig.colorbar(result, ax=ax, shrink=0.7)\n",
    "cbar.set_ticks([0, 1, 2, 3])\n",
    "cbar.set_label('degree')"
   ]
  },
  {
   "cell_type": "markdown",
   "metadata": {},
   "source": [
    "There you can see \"tips\" of the skeleton, with only 1 neighbouring pixel, as purple, \"paths\", with 2 neighbours, as red, and \"junctions\", with 3 neighbors, as yellow.\n",
    "\n",
    "Now, consider the pixel at position $(1, 6)$. It has two neighbours (as indicated by its colour): $(2, 5)$ and $(1, 7)$. If we number the nonzero pixels as $1, 2, ..., n$ from left to right and top to bottom, then this pixel has label 2, and its neighbours have labels 6 and 3. We therefore need to add edges (2, 3) and (2, 6) to the graph. Similarly, when we consider pixel 6, we will add edges (6, 5), (6, 3), and (6, 8)."
   ]
  },
  {
   "cell_type": "code",
   "execution_count": 18,
   "metadata": {
    "collapsed": false
   },
   "outputs": [
    {
     "data": {
      "image/png": "[encoded data removed]",
      "text/plain": [
       "<matplotlib.figure.Figure at 0x1151744e0>"
      ]
     },
     "metadata": {},
     "output_type": "display_data"
    }
   ],
   "source": [
    "fig, ax = plt.subplots(figsize=(5, 5))\n",
    "result = ax.imshow(degrees, cmap='magma')\n",
    "cbar = fig.colorbar(result, ax=ax, shrink=0.7)\n",
    "cbar.set_ticks([0, 1, 2, 3])\n",
    "\n",
    "nnz = len(np.flatnonzero(degrees))\n",
    "pixel_labels = np.arange(nnz) + 1\n",
    "for lab, y, x in zip(pixel_labels, *np.nonzero(degrees)):\n",
    "    ax.text(x, y, lab, horizontalalignment='center',\n",
    "            verticalalignment='center')\n",
    "\n",
    "ax.set_xlabel('col')\n",
    "ax.set_ylabel('row')\n",
    "ax.set_title('Skeleton, with pixel IDs')\n",
    "cbar.set_label('degree')"
   ]
  },
  {
   "cell_type": "markdown",
   "metadata": {},
   "source": [
    "Scanning over the whole image, we see that we need `row` and `col` arrays of length exactly `np.sum(degrees)`."
   ]
  },
  {
   "cell_type": "code",
   "execution_count": 19,
   "metadata": {
    "collapsed": true
   },
   "outputs": [],
   "source": [
    "n_edges = np.sum(degrees)\n",
    "row = np.empty(n_edges, dtype=np.int32)  # type expected by scipy.sparse\n",
    "col = np.empty(n_edges, dtype=np.int32)"
   ]
  },
  {
   "cell_type": "markdown",
   "metadata": {},
   "source": [
    "The final piece of the puzzle is finding neighbours. For this, we need to know a little about how NumPy stores arrays. Even though our array is 2-dimensional (rows and columns), these are all arrayed in a giant line, each row placed one after the other. (This is called \"C-order\".) If we index into this linearised array (\"raveled\", in NumPy's language), we can make sure that our code works for 2D, 3D, and even higher-dimensional images. Using this indexing, neighbouring pixels to the left and right are accessed by subtracting or adding 1 to the current index. Neighbouring pixels above and below are accessed by subtracting or adding the length of a whole row. Finally, diagonal neighbours are found by combining these two. For simplicity, we only show the 2D version below:"
   ]
  },
  {
   "cell_type": "code",
   "execution_count": 20,
   "metadata": {
    "collapsed": true
   },
   "outputs": [],
   "source": [
    "def neighbour_steps(shape):\n",
    "    step_sizes = np.cumprod((1,) + shape[-1:0:-1])\n",
    "    axis_steps = np.array([[-1, -1],\n",
    "                           [-1,  1],\n",
    "                           [ 1, -1],\n",
    "                           [ 1,  1]])\n",
    "    diag = axis_steps @ step_sizes\n",
    "    steps = np.concatenate((step_sizes, -step_sizes, diag))\n",
    "    return steps"
   ]
  },
  {
   "cell_type": "code",
   "execution_count": 21,
   "metadata": {
    "collapsed": false
   },
   "outputs": [
    {
     "name": "stdout",
     "output_type": "stream",
     "text": [
      "[  1   9  -1  -9 -10   8  -8  10]\n"
     ]
    }
   ],
   "source": [
    "steps = neighbour_steps(degrees.shape)\n",
    "print(steps)"
   ]
  },
  {
   "cell_type": "markdown",
   "metadata": {},
   "source": [
    "Of course, if we use these steps near the right edge of the image, we'll wrap around, and mistakenly think that the first element of the next row is a neighbouring pixel! Our solution is to only process nonzero pixels, and make sure that we have a 1-pixel-wide \"pad\" of zero pixels — which we do, in the image above!\n",
    "\n",
    "Now, we iterate over image pixels, look at neighbors, and populate the `row` and `column` vectors."
   ]
  },
  {
   "cell_type": "code",
   "execution_count": 22,
   "metadata": {
    "collapsed": true
   },
   "outputs": [],
   "source": [
    "def build_graph(labeled_pixels, steps_to_neighbours, row, col):\n",
    "    start = np.max(steps_to_neighbours)\n",
    "    end = len(labeled_pixels) - start\n",
    "    elem = 0  # row/col index\n",
    "    for k in range(start, end):\n",
    "        i = labeled_pixels[k]\n",
    "        if i != 0:\n",
    "            for s in steps:\n",
    "                neighbour = k + s\n",
    "                j = labeled_pixels[neighbour]\n",
    "                if j != 0:\n",
    "                    row[elem] = i\n",
    "                    col[elem] = j\n",
    "                    elem += 1"
   ]
  },
  {
   "cell_type": "code",
   "execution_count": 23,
   "metadata": {
    "collapsed": true
   },
   "outputs": [],
   "source": [
    "skeleton_int = np.ravel(skeleton.astype(np.int32))\n",
    "skeleton_int[np.nonzero(skeleton_int)] = 1 + np.arange(nnz)"
   ]
  },
  {
   "cell_type": "code",
   "execution_count": 24,
   "metadata": {
    "collapsed": false
   },
   "outputs": [
    {
     "name": "stdout",
     "output_type": "stream",
     "text": [
      "1 loop, best of 1: 917 µs per loop\n"
     ]
    }
   ],
   "source": [
    "%timeit -r 1 -n 1 build_graph(skeleton_int, steps, row, col)"
   ]
  },
  {
   "cell_type": "markdown",
   "metadata": {},
   "source": [
    "Now we try the Numba version:"
   ]
  },
  {
   "cell_type": "code",
   "execution_count": 25,
   "metadata": {
    "collapsed": false
   },
   "outputs": [],
   "source": [
    "build_graph_nb = numba.jit(build_graph)"
   ]
  },
  {
   "cell_type": "code",
   "execution_count": 26,
   "metadata": {
    "collapsed": false
   },
   "outputs": [
    {
     "name": "stdout",
     "output_type": "stream",
     "text": [
      "1 loop, best of 1: 346 ms per loop\n"
     ]
    }
   ],
   "source": [
    "%timeit -r 1 -n 1 build_graph_nb(skeleton_int, steps, row, col)"
   ]
  },
  {
   "cell_type": "code",
   "execution_count": 27,
   "metadata": {
    "collapsed": false
   },
   "outputs": [
    {
     "name": "stdout",
     "output_type": "stream",
     "text": [
      "1 loop, best of 1: 14.3 µs per loop\n"
     ]
    }
   ],
   "source": [
    "%timeit -r 1 -n 1 build_graph_nb(skeleton_int, steps, row, col)"
   ]
  },
  {
   "cell_type": "markdown",
   "metadata": {},
   "source": [
    "Nice! We get more than a 50-fold speedup using Numba, and this operation would have been difficult if not impossible to convert to a NumPy vectorized operation! We can now build our graph:"
   ]
  },
  {
   "cell_type": "code",
   "execution_count": 28,
   "metadata": {
    "collapsed": true
   },
   "outputs": [],
   "source": [
    "from scipy import sparse\n",
    "G = sparse.coo_matrix((np.ones_like(row), (row, col))).tocsr()"
   ]
  },
  {
   "cell_type": "markdown",
   "metadata": {},
   "source": [
    "As to what to *do* with said graph, I'll leave that for another post. (You can also peruse the [skan source code](https://github.com/jni/skan).) In the meantime, though, you can visualize it with NetworkX:"
   ]
  },
  {
   "cell_type": "code",
   "execution_count": 29,
   "metadata": {
    "collapsed": false
   },
   "outputs": [
    {
     "data": {
      "image/png": "[encoded data removed]",
      "text/plain": [
       "<matplotlib.figure.Figure at 0x11598e4a8>"
      ]
     },
     "metadata": {},
     "output_type": "display_data"
    }
   ],
   "source": [
    "import networkx as nx\n",
    "\n",
    "Gnx = nx.from_scipy_sparse_matrix(G)\n",
    "Gnx.remove_node(0)\n",
    "\n",
    "nx.draw_spectral(Gnx, with_labels=True)"
   ]
  },
  {
   "cell_type": "markdown",
   "metadata": {},
   "source": [
    "There's our pixel graph! Obviously, the speedup and n-d support are important for bigger, 3D volumes, not for this tiny graph. But they *are* important, and, thanks to Numba, easy to obtain."
   ]
  },
  {
   "cell_type": "markdown",
   "metadata": {},
   "source": [
    "## Conclusion\n",
    "\n",
    "I hope I've piqued your interest in Numba and encouraged you to use it in your own projects. I think the future of success of Python in science heavily depends on JITs, and Numba is a strong contender to be the default JIT in this field."
   ]
  }
 ],
 "metadata": {
  "anaconda-cloud": {},
  "kernelspec": {
   "display_name": "Python [conda env:ana]",
   "language": "python",
   "name": "conda-env-ana-py"
  },
  "language_info": {
   "codemirror_mode": {
    "name": "ipython",
    "version": 3
   },
   "file_extension": ".py",
   "mimetype": "text/x-python",
   "name": "python",
   "nbconvert_exporter": "python",
   "pygments_lexer": "ipython3",
   "version": "3.5.2"
  }
 },
 "nbformat": 4,
 "nbformat_minor": 1
}
